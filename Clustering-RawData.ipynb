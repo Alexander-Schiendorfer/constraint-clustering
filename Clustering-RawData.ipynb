{
 "metadata": {
  "name": ""
 },
 "nbformat": 3,
 "nbformat_minor": 0,
 "worksheets": [
  {
   "cells": [
    {
     "cell_type": "code",
     "collapsed": false,
     "input": [
      "import numpy\n",
      "import scipy as sc\n",
      "from scipy.spatial.distance import pdist \n",
      "from sklearn.metrics.pairwise import pairwise_distances "
     ],
     "language": "python",
     "metadata": {},
     "outputs": [],
     "prompt_number": 2
    },
    {
     "cell_type": "code",
     "collapsed": false,
     "input": [
      "# alternative data sets \n",
      "import time\n",
      "\n",
      "import numpy as np\n",
      "import matplotlib.pyplot as plt\n",
      "\n",
      "from sklearn import cluster, datasets\n",
      "from sklearn.neighbors import kneighbors_graph\n",
      "from sklearn.preprocessing import StandardScaler\n",
      "\n",
      "np.random.seed(0)\n",
      "\n",
      "# Generate datasets. We choose the size big enough to see the scalability\n",
      "# of the algorithms, but not too big to avoid too long running times\n",
      "n_samples = 40\n",
      "noisy_circles = datasets.make_circles(n_samples=n_samples, factor=.5,\n",
      "                                      noise=.05)\n",
      "noisy_moons = datasets.make_moons(n_samples=n_samples, noise=.05)\n",
      "blobs = datasets.make_blobs(n_samples=n_samples, random_state=8)\n",
      "no_structure = np.random.rand(n_samples, 2), None\n",
      "\n",
      "scatter(blobs[0][:,0], blobs[0][:,1])\n",
      "\n",
      "Complete = blobs[0]"
     ],
     "language": "python",
     "metadata": {},
     "outputs": [
      {
       "metadata": {},
       "output_type": "display_data",
       "png": "[encoded data removed]",
       "text": [
        "<matplotlib.figure.Figure at 0x7fa18af11190>"
       ]
      }
     ],
     "prompt_number": 68
    },
    {
     "cell_type": "code",
     "collapsed": false,
     "input": [
      "# do print in minizinc-friendly form\n",
      "n = Complete.shape[0]\n",
      "Y = np.around(pairwise_distances(Complete),2)\n",
      "\n",
      "# max number of clusters \n",
      "k = 4;\n",
      "l = 3; # lower bound on the number of clusters\n",
      "\n",
      "dataString = \"n = {0};\".format(n);\n",
      "dataString += \"\\nk = {0};\".format(k);\n",
      "dataString += \"\\nl = {0};\".format(l);\n",
      "\n",
      "dataString += \"\\nforceAtLeastOne = false;\"\n",
      "dataString += \"\\nmaxdiam = 15.0;\\n\"\n",
      "dataString += \"costs = [| \"\n",
      "\n",
      "first = True \n",
      "for r in Y:\n",
      "    if not first:\n",
      "        dataString += '| '\n",
      "    else:\n",
      "        first = False\n",
      "        \n",
      "    firstLine = True\n",
      "    for v in r:\n",
      "        if firstLine:\n",
      "            firstLine = False\n",
      "        else:\n",
      "            dataString += ', '\n",
      "        dataString += str(v)\n",
      "\n",
      "    dataString += \"\\n\"\n",
      "\n",
      "dataString += ' |];'\n",
      "\n",
      "with open(\"generated.dzn\", \"w\") as f:\n",
      "    f.write(dataString)\n",
      "\n",
      "    "
     ],
     "language": "python",
     "metadata": {},
     "outputs": [],
     "prompt_number": 69
    },
    {
     "cell_type": "code",
     "collapsed": false,
     "input": [
      "# now call minizinc\n",
      "# mzn-gecode -o labeling.txt --soln-sep \"\" --search-complete-msg \"\" clustering.mzn generated.dzn\n",
      "import subprocess\n",
      "subprocess.check_call([\"mzn-gecode -o labeling.txt --soln-sep \\\"\\\" --search-complete-msg \\\"\\\" clustering.mzn generated.dzn\"], shell=True)\n",
      "#subprocess.check_call(\"exit 1\", shell=True)"
     ],
     "language": "python",
     "metadata": {},
     "outputs": [
      {
       "metadata": {},
       "output_type": "pyout",
       "prompt_number": 70,
       "text": [
        "0"
       ]
      }
     ],
     "prompt_number": 70
    },
    {
     "cell_type": "code",
     "collapsed": false,
     "input": [
      "# now read from file \n",
      "\n",
      "#clusters = np.atleast_2d(np.array([1, 1, 1, 2, 2, 2])).T\n",
      "\n",
      "labeling = np.genfromtxt(\"labeling.txt\",delimiter=\",\")\n",
      "clusters = np.atleast_2d(np.array(labeling)).T\n",
      "#print clusters\n",
      "\n",
      "A = np.hstack((clusters, Complete))\n",
      "\n",
      "codes = [ 'x', 'or', 'x', 'yo' ]\n",
      "colors = np.array([x for x in 'brgcmykbgrcmykbgrcmykbgrcmyk'])\n",
      "colors = np.hstack([colors] * 20)\n",
      "\n",
      "seen = []\n",
      "for i in clusters:\n",
      "    if i not in seen:        \n",
      "        seen += [i]\n",
      "\n",
      "codeInd = 0\n",
      "for s in seen:\n",
      "    ind = np.where(A[:,0] == s)\n",
      "    subMat = A[ind][:,1:]\n",
      "    \n",
      "    # now plot those folks \n",
      "    plt.scatter(subMat[:,0], subMat[:,1], color=colors[codeInd]); \n",
      "    #plt.axis('equal'); \n",
      "    codeInd += 1\n",
      "    \n",
      "plt.axis('equal'); \n",
      "plt.savefig('clustered.pdf');\n",
      "plt.show()"
     ],
     "language": "python",
     "metadata": {},
     "outputs": [
      {
       "metadata": {},
       "output_type": "display_data",
       "png": "[encoded data removed]",
       "text": [
        "<matplotlib.figure.Figure at 0x7fa18ac1e490>"
       ]
      }
     ],
     "prompt_number": 71
    },
    {
     "cell_type": "code",
     "collapsed": false,
     "input": [
      "print Complete.shape"
     ],
     "language": "python",
     "metadata": {},
     "outputs": [
      {
       "output_type": "stream",
       "stream": "stdout",
       "text": [
        "(40, 2)\n"
       ]
      }
     ],
     "prompt_number": 56
    },
    {
     "cell_type": "code",
     "collapsed": false,
     "input": [],
     "language": "python",
     "metadata": {},
     "outputs": []
    }
   ],
   "metadata": {}
  }
 ]
}